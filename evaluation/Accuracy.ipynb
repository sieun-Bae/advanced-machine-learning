{
 "cells": [
  {
   "cell_type": "code",
   "execution_count": 4,
   "metadata": {},
   "outputs": [],
   "source": [
    "import pandas as pd\n",
    "import numpy as np\n",
    "from sklearn import preprocessing\n",
    "\n",
    "\n",
    "def fillna(df):\n",
    "    print(df)\n",
    "    df['Age'].fillna(df['Age'].mean(), inplace=True)\n",
    "    df['Cabin'].fillna('N', inplace=True)\n",
    "    df['Embarked'].fillna('N', inplace=True)\n",
    "    df['Fare'].fillna(0, inplace=True)\n",
    "    \n",
    "    return df\n",
    "\n",
    "def drop_features(df):\n",
    "    df.drop(['PassengerId', 'Name', 'Ticket'], axis=1, inplace=True)\n",
    "    return df\n",
    "\n",
    "def format_features(df):\n",
    "    df['Cabin'] = df['Cabin'].str[:1]\n",
    "    features = ['Cabin', 'Sex', 'Embarked']\n",
    "    for feature in features:\n",
    "        le = preprocessing.LabelEncoder()\n",
    "        le = le.fit(df[feature])\n",
    "        df[feature] = le.transform(df[feature])\n",
    "    return df\n",
    "\n",
    "def transform_features(df):\n",
    "    df = fillna(df)\n",
    "    df = drop_features(df)\n",
    "    df = format_features(df)\n",
    "    \n",
    "    return df"
   ]
  },
  {
   "cell_type": "code",
   "execution_count": 5,
   "metadata": {},
   "outputs": [],
   "source": [
    "from sklearn.base import BaseEstimator\n",
    "\n",
    "#create meaningless classifier inherit BaseEstimator\n",
    "class MyDummyClassifier(BaseEstimator):\n",
    "    def fit(self, X, y=None):\n",
    "        pass\n",
    "    def predict(self, X):\n",
    "        pred = np.zeros((X.shape[0], 1))\n",
    "        for i in range(X.shape[0]):\n",
    "            if X['Sex'].iloc[i] == 1:\n",
    "                pred[i] = 0\n",
    "            else:\n",
    "                pred[i] = 1\n",
    "        return pred"
   ]
  },
  {
   "cell_type": "code",
   "execution_count": 6,
   "metadata": {},
   "outputs": [],
   "source": [
    "import pandas as pd\n",
    "from sklearn.model_selection import train_test_split\n",
    "from sklearn.metrics import accuracy_score"
   ]
  },
  {
   "cell_type": "code",
   "execution_count": 7,
   "metadata": {},
   "outputs": [
    {
     "name": "stdout",
     "output_type": "stream",
     "text": [
      "     PassengerId  Pclass                                               Name  \\\n",
      "0              1       3                            Braund, Mr. Owen Harris   \n",
      "1              2       1  Cumings, Mrs. John Bradley (Florence Briggs Th...   \n",
      "2              3       3                             Heikkinen, Miss. Laina   \n",
      "3              4       1       Futrelle, Mrs. Jacques Heath (Lily May Peel)   \n",
      "4              5       3                           Allen, Mr. William Henry   \n",
      "5              6       3                                   Moran, Mr. James   \n",
      "6              7       1                            McCarthy, Mr. Timothy J   \n",
      "7              8       3                     Palsson, Master. Gosta Leonard   \n",
      "8              9       3  Johnson, Mrs. Oscar W (Elisabeth Vilhelmina Berg)   \n",
      "9             10       2                Nasser, Mrs. Nicholas (Adele Achem)   \n",
      "10            11       3                    Sandstrom, Miss. Marguerite Rut   \n",
      "11            12       1                           Bonnell, Miss. Elizabeth   \n",
      "12            13       3                     Saundercock, Mr. William Henry   \n",
      "13            14       3                        Andersson, Mr. Anders Johan   \n",
      "14            15       3               Vestrom, Miss. Hulda Amanda Adolfina   \n",
      "15            16       2                   Hewlett, Mrs. (Mary D Kingcome)    \n",
      "16            17       3                               Rice, Master. Eugene   \n",
      "17            18       2                       Williams, Mr. Charles Eugene   \n",
      "18            19       3  Vander Planke, Mrs. Julius (Emelia Maria Vande...   \n",
      "19            20       3                            Masselmani, Mrs. Fatima   \n",
      "20            21       2                               Fynney, Mr. Joseph J   \n",
      "21            22       2                              Beesley, Mr. Lawrence   \n",
      "22            23       3                        McGowan, Miss. Anna \"Annie\"   \n",
      "23            24       1                       Sloper, Mr. William Thompson   \n",
      "24            25       3                      Palsson, Miss. Torborg Danira   \n",
      "25            26       3  Asplund, Mrs. Carl Oscar (Selma Augusta Emilia...   \n",
      "26            27       3                            Emir, Mr. Farred Chehab   \n",
      "27            28       1                     Fortune, Mr. Charles Alexander   \n",
      "28            29       3                      O'Dwyer, Miss. Ellen \"Nellie\"   \n",
      "29            30       3                                Todoroff, Mr. Lalio   \n",
      "..           ...     ...                                                ...   \n",
      "861          862       2                        Giles, Mr. Frederick Edward   \n",
      "862          863       1  Swift, Mrs. Frederick Joel (Margaret Welles Ba...   \n",
      "863          864       3                  Sage, Miss. Dorothy Edith \"Dolly\"   \n",
      "864          865       2                             Gill, Mr. John William   \n",
      "865          866       2                           Bystrom, Mrs. (Karolina)   \n",
      "866          867       2                       Duran y More, Miss. Asuncion   \n",
      "867          868       1               Roebling, Mr. Washington Augustus II   \n",
      "868          869       3                        van Melkebeke, Mr. Philemon   \n",
      "869          870       3                    Johnson, Master. Harold Theodor   \n",
      "870          871       3                                  Balkic, Mr. Cerin   \n",
      "871          872       1   Beckwith, Mrs. Richard Leonard (Sallie Monypeny)   \n",
      "872          873       1                           Carlsson, Mr. Frans Olof   \n",
      "873          874       3                        Vander Cruyssen, Mr. Victor   \n",
      "874          875       2              Abelson, Mrs. Samuel (Hannah Wizosky)   \n",
      "875          876       3                   Najib, Miss. Adele Kiamie \"Jane\"   \n",
      "876          877       3                      Gustafsson, Mr. Alfred Ossian   \n",
      "877          878       3                               Petroff, Mr. Nedelio   \n",
      "878          879       3                                 Laleff, Mr. Kristo   \n",
      "879          880       1      Potter, Mrs. Thomas Jr (Lily Alexenia Wilson)   \n",
      "880          881       2       Shelley, Mrs. William (Imanita Parrish Hall)   \n",
      "881          882       3                                 Markun, Mr. Johann   \n",
      "882          883       3                       Dahlberg, Miss. Gerda Ulrika   \n",
      "883          884       2                      Banfield, Mr. Frederick James   \n",
      "884          885       3                             Sutehall, Mr. Henry Jr   \n",
      "885          886       3               Rice, Mrs. William (Margaret Norton)   \n",
      "886          887       2                              Montvila, Rev. Juozas   \n",
      "887          888       1                       Graham, Miss. Margaret Edith   \n",
      "888          889       3           Johnston, Miss. Catherine Helen \"Carrie\"   \n",
      "889          890       1                              Behr, Mr. Karl Howell   \n",
      "890          891       3                                Dooley, Mr. Patrick   \n",
      "\n",
      "        Sex   Age  SibSp  Parch            Ticket      Fare        Cabin  \\\n",
      "0      male  22.0      1      0         A/5 21171    7.2500          NaN   \n",
      "1    female  38.0      1      0          PC 17599   71.2833          C85   \n",
      "2    female  26.0      0      0  STON/O2. 3101282    7.9250          NaN   \n",
      "3    female  35.0      1      0            113803   53.1000         C123   \n",
      "4      male  35.0      0      0            373450    8.0500          NaN   \n",
      "5      male   NaN      0      0            330877    8.4583          NaN   \n",
      "6      male  54.0      0      0             17463   51.8625          E46   \n",
      "7      male   2.0      3      1            349909   21.0750          NaN   \n",
      "8    female  27.0      0      2            347742   11.1333          NaN   \n",
      "9    female  14.0      1      0            237736   30.0708          NaN   \n",
      "10   female   4.0      1      1           PP 9549   16.7000           G6   \n",
      "11   female  58.0      0      0            113783   26.5500         C103   \n",
      "12     male  20.0      0      0         A/5. 2151    8.0500          NaN   \n",
      "13     male  39.0      1      5            347082   31.2750          NaN   \n",
      "14   female  14.0      0      0            350406    7.8542          NaN   \n",
      "15   female  55.0      0      0            248706   16.0000          NaN   \n",
      "16     male   2.0      4      1            382652   29.1250          NaN   \n",
      "17     male   NaN      0      0            244373   13.0000          NaN   \n",
      "18   female  31.0      1      0            345763   18.0000          NaN   \n",
      "19   female   NaN      0      0              2649    7.2250          NaN   \n",
      "20     male  35.0      0      0            239865   26.0000          NaN   \n",
      "21     male  34.0      0      0            248698   13.0000          D56   \n",
      "22   female  15.0      0      0            330923    8.0292          NaN   \n",
      "23     male  28.0      0      0            113788   35.5000           A6   \n",
      "24   female   8.0      3      1            349909   21.0750          NaN   \n",
      "25   female  38.0      1      5            347077   31.3875          NaN   \n",
      "26     male   NaN      0      0              2631    7.2250          NaN   \n",
      "27     male  19.0      3      2             19950  263.0000  C23 C25 C27   \n",
      "28   female   NaN      0      0            330959    7.8792          NaN   \n",
      "29     male   NaN      0      0            349216    7.8958          NaN   \n",
      "..      ...   ...    ...    ...               ...       ...          ...   \n",
      "861    male  21.0      1      0             28134   11.5000          NaN   \n",
      "862  female  48.0      0      0             17466   25.9292          D17   \n",
      "863  female   NaN      8      2          CA. 2343   69.5500          NaN   \n",
      "864    male  24.0      0      0            233866   13.0000          NaN   \n",
      "865  female  42.0      0      0            236852   13.0000          NaN   \n",
      "866  female  27.0      1      0     SC/PARIS 2149   13.8583          NaN   \n",
      "867    male  31.0      0      0          PC 17590   50.4958          A24   \n",
      "868    male   NaN      0      0            345777    9.5000          NaN   \n",
      "869    male   4.0      1      1            347742   11.1333          NaN   \n",
      "870    male  26.0      0      0            349248    7.8958          NaN   \n",
      "871  female  47.0      1      1             11751   52.5542          D35   \n",
      "872    male  33.0      0      0               695    5.0000  B51 B53 B55   \n",
      "873    male  47.0      0      0            345765    9.0000          NaN   \n",
      "874  female  28.0      1      0         P/PP 3381   24.0000          NaN   \n",
      "875  female  15.0      0      0              2667    7.2250          NaN   \n",
      "876    male  20.0      0      0              7534    9.8458          NaN   \n",
      "877    male  19.0      0      0            349212    7.8958          NaN   \n",
      "878    male   NaN      0      0            349217    7.8958          NaN   \n",
      "879  female  56.0      0      1             11767   83.1583          C50   \n",
      "880  female  25.0      0      1            230433   26.0000          NaN   \n",
      "881    male  33.0      0      0            349257    7.8958          NaN   \n",
      "882  female  22.0      0      0              7552   10.5167          NaN   \n",
      "883    male  28.0      0      0  C.A./SOTON 34068   10.5000          NaN   \n",
      "884    male  25.0      0      0   SOTON/OQ 392076    7.0500          NaN   \n",
      "885  female  39.0      0      5            382652   29.1250          NaN   \n",
      "886    male  27.0      0      0            211536   13.0000          NaN   \n",
      "887  female  19.0      0      0            112053   30.0000          B42   \n",
      "888  female   NaN      1      2        W./C. 6607   23.4500          NaN   \n",
      "889    male  26.0      0      0            111369   30.0000         C148   \n",
      "890    male  32.0      0      0            370376    7.7500          NaN   \n",
      "\n",
      "    Embarked  \n",
      "0          S  \n",
      "1          C  \n",
      "2          S  \n",
      "3          S  \n",
      "4          S  \n",
      "5          Q  \n",
      "6          S  \n",
      "7          S  \n",
      "8          S  \n",
      "9          C  \n",
      "10         S  \n",
      "11         S  \n",
      "12         S  \n",
      "13         S  \n",
      "14         S  \n",
      "15         S  \n",
      "16         Q  \n",
      "17         S  \n",
      "18         S  \n",
      "19         C  \n",
      "20         S  \n",
      "21         S  \n",
      "22         Q  \n",
      "23         S  \n",
      "24         S  \n",
      "25         S  \n",
      "26         C  \n",
      "27         S  \n",
      "28         Q  \n",
      "29         S  \n",
      "..       ...  \n",
      "861        S  \n",
      "862        S  \n",
      "863        S  \n",
      "864        S  \n",
      "865        S  \n",
      "866        C  \n",
      "867        S  \n",
      "868        S  \n",
      "869        S  \n",
      "870        S  \n",
      "871        S  \n",
      "872        S  \n",
      "873        S  \n",
      "874        C  \n",
      "875        C  \n",
      "876        S  \n",
      "877        S  \n",
      "878        S  \n",
      "879        C  \n",
      "880        S  \n",
      "881        S  \n",
      "882        S  \n",
      "883        S  \n",
      "884        S  \n",
      "885        Q  \n",
      "886        S  \n",
      "887        S  \n",
      "888        S  \n",
      "889        C  \n",
      "890        Q  \n",
      "\n",
      "[891 rows x 11 columns]\n"
     ]
    }
   ],
   "source": [
    "titanic_df = pd.read_csv('./train.csv')\n",
    "y_titanic_df = titanic_df['Survived']\n",
    "X_titanic_df = titanic_df.drop('Survived', axis=1)\n",
    "X_titanic_df = transform_features(X_titanic_df)"
   ]
  },
  {
   "cell_type": "code",
   "execution_count": 8,
   "metadata": {},
   "outputs": [],
   "source": [
    "X_train, X_test, y_train, y_test = train_test_split(X_titanic_df, y_titanic_df, test_size = 0.2, random_state = 0)"
   ]
  },
  {
   "cell_type": "code",
   "execution_count": 10,
   "metadata": {},
   "outputs": [
    {
     "name": "stdout",
     "output_type": "stream",
     "text": [
      "accuracy: 0.7877094972067039\n"
     ]
    }
   ],
   "source": [
    "myclf = MyDummyClassifier()\n",
    "myclf.fit(X_train, y_train)\n",
    "\n",
    "mypredictions = myclf.predict(X_test)\n",
    "print('accuracy:', accuracy_score(y_test, mypredictions))"
   ]
  },
  {
   "cell_type": "markdown",
   "metadata": {},
   "source": [
    "#### => 정확도를 불균형한 레이블 값 분포에서 판단의 기준으로 쓸 경우 적합하지 않음"
   ]
  },
  {
   "cell_type": "markdown",
   "metadata": {},
   "source": [
    "#### MNIST 데이터를 이용하여 7인지 아닌지를 구분하도록 하는 분류기 (찍어서 맞출 확률 90%)"
   ]
  },
  {
   "cell_type": "code",
   "execution_count": 11,
   "metadata": {},
   "outputs": [],
   "source": [
    "from sklearn.datasets import load_digits\n",
    "from sklearn.model_selection import train_test_split\n",
    "from sklearn.base import BaseEstimator\n",
    "from sklearn.metrics import accuracy_score\n",
    "import numpy as np\n",
    "import pandas as pd"
   ]
  },
  {
   "cell_type": "code",
   "execution_count": 12,
   "metadata": {},
   "outputs": [],
   "source": [
    "class MyFakeClassifier(BaseEstimator):\n",
    "    def fit(self, X, y):\n",
    "        pass\n",
    "    def predict(self, X):\n",
    "        return np.zeros((len(X), 1), dtype=bool)"
   ]
  },
  {
   "cell_type": "code",
   "execution_count": 13,
   "metadata": {},
   "outputs": [],
   "source": [
    "digits = load_digits()"
   ]
  },
  {
   "cell_type": "code",
   "execution_count": 14,
   "metadata": {},
   "outputs": [],
   "source": [
    "y = (digits.target==7).astype(int)\n",
    "X_train, X_test, y_train, y_test = train_test_split(digits.data, y, random_state = 1)"
   ]
  },
  {
   "cell_type": "code",
   "execution_count": 16,
   "metadata": {},
   "outputs": [
    {
     "name": "stdout",
     "output_type": "stream",
     "text": [
      "size of label (450,)\n",
      "distribution of 0,1\n",
      " 0    402\n",
      "1     48\n",
      "dtype: int64\n"
     ]
    }
   ],
   "source": [
    "print('size of label', y_test.shape)\n",
    "print('distribution of 0,1\\n', pd.Series(y_test).value_counts())"
   ]
  },
  {
   "cell_type": "code",
   "execution_count": 17,
   "metadata": {},
   "outputs": [
    {
     "name": "stdout",
     "output_type": "stream",
     "text": [
      "just pick 0 to all, accuracy: 0.8933333333333333\n"
     ]
    }
   ],
   "source": [
    "fakeclf=MyFakeClassifier()\n",
    "fakeclf.fit(X_train, y_train)\n",
    "fakepred=fakeclf.predict(X_test)\n",
    "print('just pick 0 to all, accuracy:', accuracy_score(y_test, fakepred))"
   ]
  },
  {
   "cell_type": "code",
   "execution_count": null,
   "metadata": {},
   "outputs": [],
   "source": []
  }
 ],
 "metadata": {
  "kernelspec": {
   "display_name": "Python 3",
   "language": "python",
   "name": "python3"
  },
  "language_info": {
   "codemirror_mode": {
    "name": "ipython",
    "version": 3
   },
   "file_extension": ".py",
   "mimetype": "text/x-python",
   "name": "python",
   "nbconvert_exporter": "python",
   "pygments_lexer": "ipython3",
   "version": "3.7.4"
  }
 },
 "nbformat": 4,
 "nbformat_minor": 2
}
